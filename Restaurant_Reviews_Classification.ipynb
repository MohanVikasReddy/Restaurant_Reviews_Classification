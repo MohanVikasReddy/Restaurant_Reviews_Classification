{
  "nbformat": 4,
  "nbformat_minor": 0,
  "metadata": {
    "colab": {
      "name": "Restaurant Reviews Classification.ipynb",
      "provenance": []
    },
    "kernelspec": {
      "name": "python3",
      "display_name": "Python 3"
    },
    "language_info": {
      "name": "python"
    }
  },
  "cells": [
    {
      "cell_type": "markdown",
      "metadata": {
        "id": "c4YMFj8-3uM5"
      },
      "source": [
        "**Restaurant Reviews Classification**"
      ]
    },
    {
      "cell_type": "markdown",
      "metadata": {
        "id": "LMbBQWTa7Jf7"
      },
      "source": [
        "**NLP:-\n",
        "1.Read the data\n",
        "2.preprocess the text\n",
        "2.1 removing the special characters\n",
        "2.2 removing the stop words\n",
        "2.3 stemming/lemmatizing the words\n",
        "2.4 vectorizing the words\n",
        "3.Building the model\n",
        "4.Test the Model\n",
        "5.Deploying the Model**"
      ]
    },
    {
      "cell_type": "code",
      "metadata": {
        "colab": {
          "base_uri": "https://localhost:8080/"
        },
        "id": "w9bD98LP35F1",
        "outputId": "cbb73a5f-4136-4f88-a8c9-85a6d46140d5"
      },
      "source": [
        "from google.colab import drive\n",
        "drive.mount('/content/drive')"
      ],
      "execution_count": 2,
      "outputs": [
        {
          "output_type": "stream",
          "name": "stdout",
          "text": [
            "Mounted at /content/drive\n"
          ]
        }
      ]
    },
    {
      "cell_type": "markdown",
      "metadata": {
        "id": "VJSzSFti7NVI"
      },
      "source": [
        "**Loading the Essential Libraries First**"
      ]
    },
    {
      "cell_type": "code",
      "metadata": {
        "id": "N4oJ6-jh3zYx"
      },
      "source": [
        "import pandas as pd\n",
        "import numpy as np"
      ],
      "execution_count": 1,
      "outputs": []
    },
    {
      "cell_type": "markdown",
      "metadata": {
        "id": "rtXko1M07Q1L"
      },
      "source": [
        "**Reading the DataSet**"
      ]
    },
    {
      "cell_type": "code",
      "metadata": {
        "id": "raZM1Ybu33ha"
      },
      "source": [
        "dataset=pd.read_csv(\"/content/drive/MyDrive/Datasets/Restaurant_Reviews.tsv\",delimiter = \"\\t\")"
      ],
      "execution_count": 4,
      "outputs": []
    },
    {
      "cell_type": "markdown",
      "metadata": {
        "id": "R9xo-MDr7WMw"
      },
      "source": [
        "**Viewing the Dataset**"
      ]
    },
    {
      "cell_type": "code",
      "metadata": {
        "colab": {
          "base_uri": "https://localhost:8080/",
          "height": 424
        },
        "id": "idKRVu4k4lRt",
        "outputId": "b4b90a40-e919-4abe-cbf5-f9afe61579a1"
      },
      "source": [
        "dataset"
      ],
      "execution_count": 6,
      "outputs": [
        {
          "output_type": "execute_result",
          "data": {
            "text/html": [
              "<div>\n",
              "<style scoped>\n",
              "    .dataframe tbody tr th:only-of-type {\n",
              "        vertical-align: middle;\n",
              "    }\n",
              "\n",
              "    .dataframe tbody tr th {\n",
              "        vertical-align: top;\n",
              "    }\n",
              "\n",
              "    .dataframe thead th {\n",
              "        text-align: right;\n",
              "    }\n",
              "</style>\n",
              "<table border=\"1\" class=\"dataframe\">\n",
              "  <thead>\n",
              "    <tr style=\"text-align: right;\">\n",
              "      <th></th>\n",
              "      <th>Review</th>\n",
              "      <th>Liked</th>\n",
              "    </tr>\n",
              "  </thead>\n",
              "  <tbody>\n",
              "    <tr>\n",
              "      <th>0</th>\n",
              "      <td>Wow... Loved this place.</td>\n",
              "      <td>1</td>\n",
              "    </tr>\n",
              "    <tr>\n",
              "      <th>1</th>\n",
              "      <td>Crust is not good.</td>\n",
              "      <td>0</td>\n",
              "    </tr>\n",
              "    <tr>\n",
              "      <th>2</th>\n",
              "      <td>Not tasty and the texture was just nasty.</td>\n",
              "      <td>0</td>\n",
              "    </tr>\n",
              "    <tr>\n",
              "      <th>3</th>\n",
              "      <td>Stopped by during the late May bank holiday of...</td>\n",
              "      <td>1</td>\n",
              "    </tr>\n",
              "    <tr>\n",
              "      <th>4</th>\n",
              "      <td>The selection on the menu was great and so wer...</td>\n",
              "      <td>1</td>\n",
              "    </tr>\n",
              "    <tr>\n",
              "      <th>...</th>\n",
              "      <td>...</td>\n",
              "      <td>...</td>\n",
              "    </tr>\n",
              "    <tr>\n",
              "      <th>995</th>\n",
              "      <td>I think food should have flavor and texture an...</td>\n",
              "      <td>0</td>\n",
              "    </tr>\n",
              "    <tr>\n",
              "      <th>996</th>\n",
              "      <td>Appetite instantly gone.</td>\n",
              "      <td>0</td>\n",
              "    </tr>\n",
              "    <tr>\n",
              "      <th>997</th>\n",
              "      <td>Overall I was not impressed and would not go b...</td>\n",
              "      <td>0</td>\n",
              "    </tr>\n",
              "    <tr>\n",
              "      <th>998</th>\n",
              "      <td>The whole experience was underwhelming, and I ...</td>\n",
              "      <td>0</td>\n",
              "    </tr>\n",
              "    <tr>\n",
              "      <th>999</th>\n",
              "      <td>Then, as if I hadn't wasted enough of my life ...</td>\n",
              "      <td>0</td>\n",
              "    </tr>\n",
              "  </tbody>\n",
              "</table>\n",
              "<p>1000 rows × 2 columns</p>\n",
              "</div>"
            ],
            "text/plain": [
              "                                                Review  Liked\n",
              "0                             Wow... Loved this place.      1\n",
              "1                                   Crust is not good.      0\n",
              "2            Not tasty and the texture was just nasty.      0\n",
              "3    Stopped by during the late May bank holiday of...      1\n",
              "4    The selection on the menu was great and so wer...      1\n",
              "..                                                 ...    ...\n",
              "995  I think food should have flavor and texture an...      0\n",
              "996                           Appetite instantly gone.      0\n",
              "997  Overall I was not impressed and would not go b...      0\n",
              "998  The whole experience was underwhelming, and I ...      0\n",
              "999  Then, as if I hadn't wasted enough of my life ...      0\n",
              "\n",
              "[1000 rows x 2 columns]"
            ]
          },
          "metadata": {},
          "execution_count": 6
        }
      ]
    },
    {
      "cell_type": "markdown",
      "metadata": {
        "id": "nVquuwFT7avB"
      },
      "source": [
        "**Shape of the DataSet**"
      ]
    },
    {
      "cell_type": "code",
      "metadata": {
        "colab": {
          "base_uri": "https://localhost:8080/"
        },
        "id": "2Kyg8LX34n6K",
        "outputId": "73b83541-1ed3-47e2-e7d0-fc1e1a4273b9"
      },
      "source": [
        "dataset.shape"
      ],
      "execution_count": 7,
      "outputs": [
        {
          "output_type": "execute_result",
          "data": {
            "text/plain": [
              "(1000, 2)"
            ]
          },
          "metadata": {},
          "execution_count": 7
        }
      ]
    },
    {
      "cell_type": "code",
      "metadata": {
        "colab": {
          "base_uri": "https://localhost:8080/"
        },
        "id": "9yhA43fN4xrv",
        "outputId": "fb8f1c6d-0a1b-4036-b240-0e310ad77930"
      },
      "source": [
        "dataset['Liked'].value_counts()"
      ],
      "execution_count": 9,
      "outputs": [
        {
          "output_type": "execute_result",
          "data": {
            "text/plain": [
              "1    500\n",
              "0    500\n",
              "Name: Liked, dtype: int64"
            ]
          },
          "metadata": {},
          "execution_count": 9
        }
      ]
    },
    {
      "cell_type": "markdown",
      "metadata": {
        "id": "ScFJvvC-7wXm"
      },
      "source": [
        "**So here we can see that there are 500 positive Reviews and 500 Negative Reviews are there**"
      ]
    },
    {
      "cell_type": "code",
      "metadata": {
        "colab": {
          "base_uri": "https://localhost:8080/",
          "height": 297
        },
        "id": "VL6iO9di48qK",
        "outputId": "28b08119-1e1c-407e-fe63-259868eb2216"
      },
      "source": [
        "import seaborn as sns\n",
        "sns.countplot(x='Liked', data=dataset)"
      ],
      "execution_count": 10,
      "outputs": [
        {
          "output_type": "execute_result",
          "data": {
            "text/plain": [
              "<matplotlib.axes._subplots.AxesSubplot at 0x7f21010a3950>"
            ]
          },
          "metadata": {},
          "execution_count": 10
        },
        {
          "output_type": "display_data",
          "data": {
            "image/png": "[encoded data removed]",
            "text/plain": [
              "<Figure size 432x288 with 1 Axes>"
            ]
          },
          "metadata": {
            "needs_background": "light"
          }
        }
      ]
    },
    {
      "cell_type": "markdown",
      "metadata": {
        "id": "VIg7DUPm7-RB"
      },
      "source": [
        "**Viewing First 5 rows in the Dataset we use the head()**"
      ]
    },
    {
      "cell_type": "code",
      "metadata": {
        "colab": {
          "base_uri": "https://localhost:8080/",
          "height": 206
        },
        "id": "n8ghqE4M5GcO",
        "outputId": "254d5771-0ae5-4fcd-940b-50e80ad03cb9"
      },
      "source": [
        "dataset.head()"
      ],
      "execution_count": 11,
      "outputs": [
        {
          "output_type": "execute_result",
          "data": {
            "text/html": [
              "<div>\n",
              "<style scoped>\n",
              "    .dataframe tbody tr th:only-of-type {\n",
              "        vertical-align: middle;\n",
              "    }\n",
              "\n",
              "    .dataframe tbody tr th {\n",
              "        vertical-align: top;\n",
              "    }\n",
              "\n",
              "    .dataframe thead th {\n",
              "        text-align: right;\n",
              "    }\n",
              "</style>\n",
              "<table border=\"1\" class=\"dataframe\">\n",
              "  <thead>\n",
              "    <tr style=\"text-align: right;\">\n",
              "      <th></th>\n",
              "      <th>Review</th>\n",
              "      <th>Liked</th>\n",
              "    </tr>\n",
              "  </thead>\n",
              "  <tbody>\n",
              "    <tr>\n",
              "      <th>0</th>\n",
              "      <td>Wow... Loved this place.</td>\n",
              "      <td>1</td>\n",
              "    </tr>\n",
              "    <tr>\n",
              "      <th>1</th>\n",
              "      <td>Crust is not good.</td>\n",
              "      <td>0</td>\n",
              "    </tr>\n",
              "    <tr>\n",
              "      <th>2</th>\n",
              "      <td>Not tasty and the texture was just nasty.</td>\n",
              "      <td>0</td>\n",
              "    </tr>\n",
              "    <tr>\n",
              "      <th>3</th>\n",
              "      <td>Stopped by during the late May bank holiday of...</td>\n",
              "      <td>1</td>\n",
              "    </tr>\n",
              "    <tr>\n",
              "      <th>4</th>\n",
              "      <td>The selection on the menu was great and so wer...</td>\n",
              "      <td>1</td>\n",
              "    </tr>\n",
              "  </tbody>\n",
              "</table>\n",
              "</div>"
            ],
            "text/plain": [
              "                                              Review  Liked\n",
              "0                           Wow... Loved this place.      1\n",
              "1                                 Crust is not good.      0\n",
              "2          Not tasty and the texture was just nasty.      0\n",
              "3  Stopped by during the late May bank holiday of...      1\n",
              "4  The selection on the menu was great and so wer...      1"
            ]
          },
          "metadata": {},
          "execution_count": 11
        }
      ]
    },
    {
      "cell_type": "markdown",
      "metadata": {
        "id": "iazPYmtj8CkG"
      },
      "source": [
        "**Viewing the Last 5 Rows in the DataSet We use Tail()**"
      ]
    },
    {
      "cell_type": "code",
      "metadata": {
        "colab": {
          "base_uri": "https://localhost:8080/",
          "height": 206
        },
        "id": "rRQRyc8q5JSp",
        "outputId": "7ebac076-c99c-461a-9113-e2b4749e4519"
      },
      "source": [
        "dataset.tail()"
      ],
      "execution_count": 12,
      "outputs": [
        {
          "output_type": "execute_result",
          "data": {
            "text/html": [
              "<div>\n",
              "<style scoped>\n",
              "    .dataframe tbody tr th:only-of-type {\n",
              "        vertical-align: middle;\n",
              "    }\n",
              "\n",
              "    .dataframe tbody tr th {\n",
              "        vertical-align: top;\n",
              "    }\n",
              "\n",
              "    .dataframe thead th {\n",
              "        text-align: right;\n",
              "    }\n",
              "</style>\n",
              "<table border=\"1\" class=\"dataframe\">\n",
              "  <thead>\n",
              "    <tr style=\"text-align: right;\">\n",
              "      <th></th>\n",
              "      <th>Review</th>\n",
              "      <th>Liked</th>\n",
              "    </tr>\n",
              "  </thead>\n",
              "  <tbody>\n",
              "    <tr>\n",
              "      <th>995</th>\n",
              "      <td>I think food should have flavor and texture an...</td>\n",
              "      <td>0</td>\n",
              "    </tr>\n",
              "    <tr>\n",
              "      <th>996</th>\n",
              "      <td>Appetite instantly gone.</td>\n",
              "      <td>0</td>\n",
              "    </tr>\n",
              "    <tr>\n",
              "      <th>997</th>\n",
              "      <td>Overall I was not impressed and would not go b...</td>\n",
              "      <td>0</td>\n",
              "    </tr>\n",
              "    <tr>\n",
              "      <th>998</th>\n",
              "      <td>The whole experience was underwhelming, and I ...</td>\n",
              "      <td>0</td>\n",
              "    </tr>\n",
              "    <tr>\n",
              "      <th>999</th>\n",
              "      <td>Then, as if I hadn't wasted enough of my life ...</td>\n",
              "      <td>0</td>\n",
              "    </tr>\n",
              "  </tbody>\n",
              "</table>\n",
              "</div>"
            ],
            "text/plain": [
              "                                                Review  Liked\n",
              "995  I think food should have flavor and texture an...      0\n",
              "996                           Appetite instantly gone.      0\n",
              "997  Overall I was not impressed and would not go b...      0\n",
              "998  The whole experience was underwhelming, and I ...      0\n",
              "999  Then, as if I hadn't wasted enough of my life ...      0"
            ]
          },
          "metadata": {},
          "execution_count": 12
        }
      ]
    },
    {
      "cell_type": "code",
      "metadata": {
        "colab": {
          "base_uri": "https://localhost:8080/"
        },
        "id": "EsVwDnM95OE9",
        "outputId": "2959808b-34d7-424f-8ed0-b90a51dc8236"
      },
      "source": [
        "dataset.isnull().values.any()"
      ],
      "execution_count": 13,
      "outputs": [
        {
          "output_type": "execute_result",
          "data": {
            "text/plain": [
              "False"
            ]
          },
          "metadata": {},
          "execution_count": 13
        }
      ]
    },
    {
      "cell_type": "markdown",
      "metadata": {
        "id": "mFt6Dh_-8IZe"
      },
      "source": [
        "**So we can conclude that there were no Missing values in our DataSet**"
      ]
    },
    {
      "cell_type": "code",
      "metadata": {
        "colab": {
          "base_uri": "https://localhost:8080/",
          "height": 36
        },
        "id": "C2MRwh7X5SlT",
        "outputId": "52a93783-f20d-4e72-9817-060ff83ff7c7"
      },
      "source": [
        "dataset[\"Review\"][0]"
      ],
      "execution_count": 14,
      "outputs": [
        {
          "output_type": "execute_result",
          "data": {
            "application/vnd.google.colaboratory.intrinsic+json": {
              "type": "string"
            },
            "text/plain": [
              "'Wow... Loved this place.'"
            ]
          },
          "metadata": {},
          "execution_count": 14
        }
      ]
    },
    {
      "cell_type": "code",
      "metadata": {
        "colab": {
          "base_uri": "https://localhost:8080/",
          "height": 36
        },
        "id": "jSPUaNnr8NLa",
        "outputId": "d8b5b11e-1009-45ea-c371-7528044f8c79"
      },
      "source": [
        "dataset[\"Review\"][89]"
      ],
      "execution_count": 27,
      "outputs": [
        {
          "output_type": "execute_result",
          "data": {
            "application/vnd.google.colaboratory.intrinsic+json": {
              "type": "string"
            },
            "text/plain": [
              "'Everything was fresh and delicious!'"
            ]
          },
          "metadata": {},
          "execution_count": 27
        }
      ]
    },
    {
      "cell_type": "markdown",
      "metadata": {
        "id": "CvIi9fTk8Se_"
      },
      "source": [
        "**Removing html tags**\n",
        "\n",
        "**Remove punctuations and numbers**\n",
        "\n",
        "**Single character removal**\n",
        "\n",
        "**Removing multiple spaces**\n",
        "\n",
        "**If there were any!**"
      ]
    },
    {
      "cell_type": "code",
      "metadata": {
        "colab": {
          "base_uri": "https://localhost:8080/"
        },
        "id": "3jhA3m4f4WOS",
        "outputId": "2d355558-d496-4daa-ac22-142f018a7030"
      },
      "source": [
        "import re # used to replace special characters\n",
        "import nltk #natural language tool kit - all the necessary libaries for \n",
        "nltk.download(\"stopwords\") # nltk corpus - data is stored\n",
        "from nltk.corpus import stopwords # detect stopwords\n",
        "from nltk.stem.porter import PorterStemmer # stem your word \n",
        "ps = PorterStemmer()"
      ],
      "execution_count": 5,
      "outputs": [
        {
          "output_type": "stream",
          "name": "stdout",
          "text": [
            "[nltk_data] Downloading package stopwords to /root/nltk_data...\n",
            "[nltk_data]   Unzipping corpora/stopwords.zip.\n"
          ]
        }
      ]
    },
    {
      "cell_type": "code",
      "metadata": {
        "id": "ZMt4oIrk4gRd"
      },
      "source": [
        "data = []\n",
        "for i in range(0,1000):\n",
        "    review = dataset[\"Review\"][i]\n",
        "    review = re.sub('[^a-zA-Z]', ' ',review)\n",
        "    review = review.lower()\n",
        "    review = review.split() #[wow, loved , this, place]\n",
        "    review = [ps.stem(word) for word in review if not word in set(stopwords.words('english'))]\n",
        "    review = ' '.join(review)\n",
        "    data.append(review)"
      ],
      "execution_count": 16,
      "outputs": []
    },
    {
      "cell_type": "code",
      "metadata": {
        "colab": {
          "base_uri": "https://localhost:8080/",
          "height": 36
        },
        "id": "bnv922w65iV3",
        "outputId": "dd9c99aa-6793-4d23-dff6-2391e509579c"
      },
      "source": [
        "data[0]"
      ],
      "execution_count": 18,
      "outputs": [
        {
          "output_type": "execute_result",
          "data": {
            "application/vnd.google.colaboratory.intrinsic+json": {
              "type": "string"
            },
            "text/plain": [
              "'wow love place'"
            ]
          },
          "metadata": {},
          "execution_count": 18
        }
      ]
    },
    {
      "cell_type": "code",
      "metadata": {
        "colab": {
          "base_uri": "https://localhost:8080/",
          "height": 36
        },
        "id": "7WIUUDx75uFo",
        "outputId": "1a3402ba-1a1d-4995-cbdd-45adf7f95c00"
      },
      "source": [
        "data[45]"
      ],
      "execution_count": 19,
      "outputs": [
        {
          "output_type": "execute_result",
          "data": {
            "application/vnd.google.colaboratory.intrinsic+json": {
              "type": "string"
            },
            "text/plain": [
              "'thing like prime rib dessert section'"
            ]
          },
          "metadata": {},
          "execution_count": 19
        }
      ]
    },
    {
      "cell_type": "code",
      "metadata": {
        "id": "1pTyGspr5zwc"
      },
      "source": [
        "from sklearn.feature_extraction.text import CountVectorizer\n",
        "cv = CountVectorizer(max_features = 2000)\n",
        "x = cv.fit_transform(data).toarray()"
      ],
      "execution_count": 21,
      "outputs": []
    },
    {
      "cell_type": "code",
      "metadata": {
        "id": "_wQGKmoA6Bug"
      },
      "source": [
        "y = dataset.iloc[:,1:2].values\n",
        "b = [\"wow love place\",\"awesome place\" , \" wow love  ambience\"]\n",
        "ct = CountVectorizer(max_features = 5)\n",
        "c = ct.fit_transform(b).toarray()"
      ],
      "execution_count": 22,
      "outputs": []
    },
    {
      "cell_type": "markdown",
      "metadata": {
        "id": "grN3Lnre6JcP"
      },
      "source": [
        "\"\"\"ambience awesome love place wow\n",
        "\n",
        "0         0       1    1     1\n",
        "\n",
        "0         1       0    1     0\n",
        "\n",
        "1         0       1    0      1\"\"\""
      ]
    },
    {
      "cell_type": "code",
      "metadata": {
        "id": "OjVQR86h6Hzv"
      },
      "source": [
        "from sklearn.model_selection import train_test_split\n",
        "x_train,x_test,y_train,y_test = train_test_split(x,y,test_size = 0.2, random_state = 0)"
      ],
      "execution_count": 23,
      "outputs": []
    },
    {
      "cell_type": "code",
      "metadata": {
        "id": "FNh-kwcf6YkN"
      },
      "source": [
        "from tensorflow.keras.models import Sequential\n",
        "from tensorflow.keras.layers import Dense"
      ],
      "execution_count": 24,
      "outputs": []
    },
    {
      "cell_type": "code",
      "metadata": {
        "id": "a9KHhEHw6bYj"
      },
      "source": [
        "model =  Sequential()\n",
        "model.add(Dense(units = 1565,kernel_initializer = \"random_uniform\",activation= \"relu\"))\n",
        "model.add(Dense(units = 3000,kernel_initializer = \"random_uniform\",activation= \"relu\"))\n",
        "model.add(Dense(units = 3000,kernel_initializer = \"random_uniform\",activation= \"relu\"))\n",
        "model.add(Dense(units = 1,kernel_initializer = \"random_uniform\",activation= \"sigmoid\"))\n",
        "model.compile(optimizer = \"rmsprop\",loss = \"binary_crossentropy\",metrics = [\"accuracy\"])"
      ],
      "execution_count": 25,
      "outputs": []
    },
    {
      "cell_type": "markdown",
      "metadata": {
        "id": "jNgPbDrE9OKe"
      },
      "source": [
        "**Rmsprop optimizer works effectively with Dense Layers**"
      ]
    },
    {
      "cell_type": "markdown",
      "metadata": {
        "id": "GxgGiwJU9PaT"
      },
      "source": [
        "**The rectified linear activation function or ReLU for short is a piecewise linear function that will output the input directly if it is positive, otherwise, it will output zero.**"
      ]
    },
    {
      "cell_type": "markdown",
      "metadata": {
        "id": "kmTkQInr9PjX"
      },
      "source": [
        "**The sigmoid activation function, also called the logistic function, is traditionally a very popular activation function for neural networks. The input to the function is transformed into a value between 0.0 and 1.0.**"
      ]
    },
    {
      "cell_type": "code",
      "metadata": {
        "colab": {
          "base_uri": "https://localhost:8080/"
        },
        "id": "9UCTitlT6oYY",
        "outputId": "889f0a60-dc67-40e8-af06-af1e572b3124"
      },
      "source": [
        "model.fit(x_train,y_train, epochs = 5)"
      ],
      "execution_count": 26,
      "outputs": [
        {
          "output_type": "stream",
          "name": "stdout",
          "text": [
            "Epoch 1/5\n",
            "25/25 [==============================] - 7s 214ms/step - loss: 0.9067 - accuracy: 0.6200\n",
            "Epoch 2/5\n",
            "25/25 [==============================] - 5s 212ms/step - loss: 0.3210 - accuracy: 0.8925\n",
            "Epoch 3/5\n",
            "25/25 [==============================] - 5s 214ms/step - loss: 0.0727 - accuracy: 0.9762\n",
            "Epoch 4/5\n",
            "25/25 [==============================] - 5s 217ms/step - loss: 0.0424 - accuracy: 0.9812\n",
            "Epoch 5/5\n",
            "25/25 [==============================] - 5s 213ms/step - loss: 0.0690 - accuracy: 0.9800\n"
          ]
        },
        {
          "output_type": "execute_result",
          "data": {
            "text/plain": [
              "<keras.callbacks.History at 0x7f20b1bd5f90>"
            ]
          },
          "metadata": {},
          "execution_count": 26
        }
      ]
    },
    {
      "cell_type": "code",
      "metadata": {
        "id": "zJcZ-JSf6rQ5"
      },
      "source": [
        "pred = model.predict(x_test)\n",
        "pred = pred>0.5"
      ],
      "execution_count": 28,
      "outputs": []
    },
    {
      "cell_type": "markdown",
      "metadata": {
        "id": "0wIh6QxU9-Oa"
      },
      "source": [
        "**Model predictions Based on our own Inputs**"
      ]
    },
    {
      "cell_type": "code",
      "metadata": {
        "colab": {
          "base_uri": "https://localhost:8080/"
        },
        "id": "fnQ85pAp9mJ5",
        "outputId": "c7d78fd7-b506-4abd-9e9c-8f5939006229"
      },
      "source": [
        "text = \"the worst food i have evr tasetd.... crust is very bad\"\n",
        "text = re.sub('[^a-zA-Z]', ' ',text)\n",
        "text = text.lower()\n",
        "text = text.split() #[wow, loved , this, place]    \n",
        "text = [ps.stem(word) for word in text if not word in set(stopwords.words('english'))]\n",
        "text = ' '.join(text)\n",
        "yp = model.predict(cv.transform([text]))\n",
        "yp>0.5"
      ],
      "execution_count": 31,
      "outputs": [
        {
          "output_type": "execute_result",
          "data": {
            "text/plain": [
              "array([[False]])"
            ]
          },
          "metadata": {},
          "execution_count": 31
        }
      ]
    },
    {
      "cell_type": "code",
      "metadata": {
        "colab": {
          "base_uri": "https://localhost:8080/"
        },
        "id": "O-PbFOVQ9wg0",
        "outputId": "b9a4cd7c-1ae8-42ca-81fe-25c2fa26fe9b"
      },
      "source": [
        "text = \"excellent restaurant which contains superb food ....\"\n",
        "\n",
        "text = re.sub('[^a-zA-Z]', ' ',text)\n",
        "text = text.lower()\n",
        "text = text.split() #[wow, loved , this, place]\n",
        "    \n",
        "text = [ps.stem(word) for word in text if not word in set(stopwords.words('english'))]\n",
        "text = ' '.join(text)\n",
        "yp = model.predict(cv.transform([text]))\n",
        "yp>0.5"
      ],
      "execution_count": 32,
      "outputs": [
        {
          "output_type": "execute_result",
          "data": {
            "text/plain": [
              "array([[ True]])"
            ]
          },
          "metadata": {},
          "execution_count": 32
        }
      ]
    },
    {
      "cell_type": "code",
      "metadata": {
        "colab": {
          "base_uri": "https://localhost:8080/"
        },
        "id": "9fVdSWzX97QA",
        "outputId": "ae8cff13-f5c3-4d94-d222-66340ff84699"
      },
      "source": [
        "text = \"restaurant food is not tasty its worst than other restaurants\"\n",
        "\n",
        "text = re.sub('[^a-zA-Z]', ' ',text)\n",
        "text = text.lower()\n",
        "text = text.split() #[wow, loved , this, place]\n",
        "    \n",
        "text = [ps.stem(word) for word in text if not word in set(stopwords.words('english'))]\n",
        "text = ' '.join(text)\n",
        "yp = model.predict(cv.transform([text]))\n",
        "yp>0.5"
      ],
      "execution_count": 33,
      "outputs": [
        {
          "output_type": "execute_result",
          "data": {
            "text/plain": [
              "array([[False]])"
            ]
          },
          "metadata": {},
          "execution_count": 33
        }
      ]
    },
    {
      "cell_type": "code",
      "metadata": {
        "colab": {
          "base_uri": "https://localhost:8080/"
        },
        "id": "Cl1e-8Lj-N6K",
        "outputId": "542b57f8-ca23-4a91-d425-46b171a4cd0c"
      },
      "source": [
        "text = \"nice restaurant i enjoyed that yummy tasty food....\"\n",
        "\n",
        "text = re.sub('[^a-zA-Z]', ' ',text)\n",
        "text = text.lower()\n",
        "text = text.split() #[wow, loved , this, place]\n",
        "    \n",
        "text = [ps.stem(word) for word in text if not word in set(stopwords.words('english'))]\n",
        "text = ' '.join(text)\n",
        "yp = model.predict(cv.transform([text]))\n",
        "yp>0.5"
      ],
      "execution_count": 34,
      "outputs": [
        {
          "output_type": "execute_result",
          "data": {
            "text/plain": [
              "array([[ True]])"
            ]
          },
          "metadata": {},
          "execution_count": 34
        }
      ]
    }
  ]
}